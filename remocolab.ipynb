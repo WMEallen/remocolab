{
  "nbformat": 4,
  "nbformat_minor": 0,
  "metadata": {
    "colab": {
      "name": "remocolab.ipynb",
      "provenance": [],
      "collapsed_sections": []
    },
    "kernelspec": {
      "name": "python3",
      "display_name": "Python 3"
    },
    "accelerator": "GPU"
  },
  "cells": [
    {
      "cell_type": "markdown",
      "metadata": {
        "id": "gm1P2wV08HgQ",
        "colab_type": "text"
      },
      "source": [
        "# remocolab\n",
        "\n",
        "## Instructions\n",
        "\n",
        "  1. Create a free [ngrok account](https://dashboard.ngrok.com/signup). No email address verification is required.\n",
        "  2. Go to the [Auth](https://dashboard.ngrok.com/auth) page and copy your authtoken and insert it in place of `YOUR_TOKEN` in the cell below.\n",
        "  3. Go [here](https://ngrok.com/docs#global-locations) and find your closest region code, then replace `eu` with it in the cell below (if needed).\n",
        "  4. Go to **Runtime** -> **Change runtime type** and ensure that the following values are selected:\n",
        "    * **Runtime type**: Python 3\n",
        "    * **Hardware accelerator**: GPU\n",
        "  5. Run the cell below.\n",
        "\n",
        "It should take around 5 minutes for everything to start. Once the VNC server starts, click the URL provided to access your desktop!\n",
        "\n",
        "You need to keep Colab open whilst using the VNC server. To destroy the server and start fresh, go to **Runtime** -> **Reset all runtimes...**\n"
      ]
    },
    {
      "cell_type": "code",
      "metadata": {
        "id": "HsfwNK5mJcfj",
        "colab_type": "code",
        "colab": {}
      },
      "source": [
        "!pip -q install git+https://github.com/bui/remocolab.git\n",
        "import remocolab\n",
        "\n",
        "# ngrok authtoken\n",
        "remocolab.token = '1V0WyL5j2O6sjpaMzM6X6IyVat8_6DUj1dwtyj5mjw4BHtpoe'\n",
        "\n",
        "# ngrok region code\n",
        "remocolab.region = 'eu'\n",
        "\n",
        "# Additional packages to install\n",
        "remocolab.install = ['mesa-utils', 'chromium-browser', 'fonts-noto-cjk', 'vim']\n",
        "\n",
        "# UNIX username\n",
        "remocolab.username = 'colab'\n",
        "\n",
        "# GPU model blacklist\n",
        "# remocolab.blacklist = ['Tesla K80']\n",
        "\n",
        "remocolab.setup()"
      ],
      "execution_count": 0,
      "outputs": []
    }
  ]
}
